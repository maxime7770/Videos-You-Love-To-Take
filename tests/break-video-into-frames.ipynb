{
 "cells": [
  {
   "cell_type": "code",
   "execution_count": 20,
   "metadata": {},
   "outputs": [],
   "source": [
    "import cv2\n",
    "import os"
   ]
  },
  {
   "cell_type": "code",
   "execution_count": 21,
   "metadata": {},
   "outputs": [],
   "source": [
    "# Set the path for the input video and the folder to save the frames\n",
    "video_path = '../sample-data/sample-video-1.mp4'\n",
    "frames_path = '../sample-data/frames/'\n",
    "os.makedirs(frames_path, exist_ok=True)"
   ]
  },
  {
   "cell_type": "code",
   "execution_count": 7,
   "metadata": {},
   "outputs": [],
   "source": [
    "# Open the video file\n",
    "cap = cv2.VideoCapture(video_path)\n",
    "\n",
    "# Get the frames per second (fps) of the video\n",
    "fps = int(cap.get(cv2.CAP_PROP_FPS))\n",
    "\n",
    "# Initialize the frame count\n",
    "frame_count = 0\n",
    "\n",
    "# Process frames until you reach 45 or end of video\n",
    "while frame_count < 45:\n",
    "    # Set the frame position to the next second\n",
    "    cap.set(cv2.CAP_PROP_POS_FRAMES, fps * frame_count)\n",
    "    \n",
    "    # Read the frame\n",
    "    ret, frame = cap.read()\n",
    "    \n",
    "    # Break the loop if there is no frame\n",
    "    if not ret:\n",
    "        break\n",
    "\n",
    "    # Convert the frame from BGR to RGB\n",
    "    rgb_frame = cv2.cvtColor(frame, cv2.COLOR_BGR2RGB)\n",
    "\n",
    "    # Save the frame as an image file\n",
    "    frame_filename = os.path.join(frames_path, f'frame_{frame_count:04d}.png')\n",
    "    cv2.imwrite(frame_filename, cv2.cvtColor(rgb_frame, cv2.COLOR_RGB2BGR))  # OpenCV expects BGR format\n",
    "    \n",
    "    # Increment the frame count\n",
    "    frame_count += 1\n",
    "\n",
    "# Release the video capture object\n",
    "cap.release()"
   ]
  },
  {
   "cell_type": "code",
   "execution_count": null,
   "metadata": {},
   "outputs": [],
   "source": [
    "# Load each image and run feature_extractor.py to convert it into RGB features.\n",
    "# Then save the features to a file.\n",
    "import feature_extractor\n",
    "feature_extractor.extract_features(frames_path, 'features.npy')"
   ]
  },
  {
   "cell_type": "code",
   "execution_count": 18,
   "metadata": {},
   "outputs": [
    {
     "name": "stdout",
     "output_type": "stream",
     "text": [
      "/Users/jasonjia/Library/CloudStorage/OneDrive-MassachusettsInstituteofTechnology/jason_main/education/mit-mban/15.773-hands-on-deep-learning/videos-you-love-to-take/code\n"
     ]
    },
    {
     "name": "stderr",
     "output_type": "stream",
     "text": [
      "2024-03-10 15:19:26.978724: I tensorflow/compiler/mlir/mlir_graph_optimization_pass.cc:375] MLIR V1 optimization pass is not enabled\n",
      "2024-03-10 15:19:28.194952: W tensorflow/core/framework/op_def_util.cc:369] Op BatchNormWithGlobalNormalization is deprecated. It will cease to work in GraphDef version 9. Use tf.nn.batch_normalization().\n"
     ]
    }
   ],
   "source": [
    "from PIL import Image\n",
    "import numpy\n",
    "import os\n",
    "from feature_extractor import YouTube8MFeatureExtractor\n",
    "\n",
    "# Instantiate extractor. Slow if called first time on your machine, as it\n",
    "# needs to download 100 MB.\n",
    "extractor = YouTube8MFeatureExtractor()\n",
    "\n",
    "# print current path\n",
    "print(os.getcwd())\n",
    "image_file = '../sample-data/frames/frame_0000.png'\n",
    "\n",
    "im = numpy.array(Image.open(image_file))\n",
    "features = extractor.extract_rgb_frame_features(im)"
   ]
  },
  {
   "cell_type": "code",
   "execution_count": 19,
   "metadata": {},
   "outputs": [
    {
     "data": {
      "text/plain": [
       "array([ 0.78200024, -0.92214435, -0.665657  , ...,  0.14172773,\n",
       "        1.5962982 , -0.49583384], dtype=float32)"
      ]
     },
     "execution_count": 19,
     "metadata": {},
     "output_type": "execute_result"
    }
   ],
   "source": [
    "features"
   ]
  },
  {
   "cell_type": "code",
   "execution_count": null,
   "metadata": {},
   "outputs": [],
   "source": []
  },
  {
   "cell_type": "code",
   "execution_count": null,
   "metadata": {},
   "outputs": [],
   "source": []
  },
  {
   "cell_type": "code",
   "execution_count": null,
   "metadata": {},
   "outputs": [],
   "source": []
  }
 ],
 "metadata": {
  "kernelspec": {
   "display_name": "Python 3",
   "language": "python",
   "name": "python3"
  },
  "language_info": {
   "codemirror_mode": {
    "name": "ipython",
    "version": 3
   },
   "file_extension": ".py",
   "mimetype": "text/x-python",
   "name": "python",
   "nbconvert_exporter": "python",
   "pygments_lexer": "ipython3",
   "version": "3.11.4"
  }
 },
 "nbformat": 4,
 "nbformat_minor": 2
}
