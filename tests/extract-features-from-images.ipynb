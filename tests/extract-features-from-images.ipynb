{
 "cells": [
  {
   "cell_type": "code",
   "execution_count": 2,
   "metadata": {},
   "outputs": [
    {
     "name": "stderr",
     "output_type": "stream",
     "text": [
      "2024-03-06 15:24:54.231818: W tensorflow/core/framework/op_def_util.cc:369] Op BatchNormWithGlobalNormalization is deprecated. It will cease to work in GraphDef version 9. Use tf.nn.batch_normalization().\n",
      "2024-03-06 15:24:54.474739: I tensorflow/compiler/mlir/mlir_graph_optimization_pass.cc:375] MLIR V1 optimization pass is not enabled\n",
      "2024-03-06 15:24:55.838230: W tensorflow/core/framework/op_def_util.cc:369] Op BatchNormWithGlobalNormalization is deprecated. It will cease to work in GraphDef version 9. Use tf.nn.batch_normalization().\n"
     ]
    }
   ],
   "source": [
    "from PIL import Image\n",
    "import numpy\n",
    "import os\n",
    "from feature_extractor import YouTube8MFeatureExtractor\n",
    "\n",
    "# Instantiate extractor. Slow if called first time on your machine, as it\n",
    "# needs to download 100 MB.\n",
    "extractor = YouTube8MFeatureExtractor()\n",
    "\n",
    "image_file = os.path.join(extractor._model_dir, 'cropped_panda.jpg')\n",
    "\n",
    "im = numpy.array(Image.open(image_file))\n",
    "features = extractor.extract_rgb_frame_features(im)"
   ]
  },
  {
   "cell_type": "code",
   "execution_count": 5,
   "metadata": {},
   "outputs": [
    {
     "data": {
      "text/plain": [
       "<feature_extractor.YouTube8MFeatureExtractor at 0x28b1206d0>"
      ]
     },
     "execution_count": 5,
     "metadata": {},
     "output_type": "execute_result"
    }
   ],
   "source": [
    "extractor"
   ]
  },
  {
   "cell_type": "code",
   "execution_count": 4,
   "metadata": {},
   "outputs": [
    {
     "data": {
      "text/plain": [
       "'/Users/jasonjia/yt8m/cropped_panda.jpg'"
      ]
     },
     "execution_count": 4,
     "metadata": {},
     "output_type": "execute_result"
    }
   ],
   "source": [
    "image_file"
   ]
  },
  {
   "cell_type": "code",
   "execution_count": 3,
   "metadata": {},
   "outputs": [
    {
     "data": {
      "text/plain": [
       "array([[[ 75,  71,  70],\n",
       "        [ 76,  75,  73],\n",
       "        [ 68,  68,  68],\n",
       "        ...,\n",
       "        [182, 213, 234],\n",
       "        [178, 209, 230],\n",
       "        [177, 208, 229]],\n",
       "\n",
       "       [[ 96,  92,  91],\n",
       "        [ 91,  90,  88],\n",
       "        [ 47,  47,  47],\n",
       "        ...,\n",
       "        [183, 214, 235],\n",
       "        [180, 211, 232],\n",
       "        [178, 209, 230]],\n",
       "\n",
       "       [[ 77,  73,  70],\n",
       "        [ 69,  68,  66],\n",
       "        [ 68,  68,  68],\n",
       "        ...,\n",
       "        [184, 216, 239],\n",
       "        [181, 213, 236],\n",
       "        [179, 211, 234]],\n",
       "\n",
       "       ...,\n",
       "\n",
       "       [[ 98, 141, 121],\n",
       "        [ 99, 142, 122],\n",
       "        [102, 144, 124],\n",
       "        ...,\n",
       "        [138, 127, 105],\n",
       "        [120, 109,  87],\n",
       "        [116, 105,  83]],\n",
       "\n",
       "       [[ 95, 139, 116],\n",
       "        [ 96, 140, 117],\n",
       "        [ 99, 141, 121],\n",
       "        ...,\n",
       "        [130, 119,  97],\n",
       "        [115, 104,  82],\n",
       "        [114, 103,  81]],\n",
       "\n",
       "       [[ 95, 139, 114],\n",
       "        [ 95, 139, 114],\n",
       "        [ 97, 139, 119],\n",
       "        ...,\n",
       "        [120, 109,  87],\n",
       "        [109,  98,  76],\n",
       "        [112, 101,  79]]], dtype=uint8)"
      ]
     },
     "execution_count": 3,
     "metadata": {},
     "output_type": "execute_result"
    }
   ],
   "source": [
    "im"
   ]
  },
  {
   "cell_type": "code",
   "execution_count": 6,
   "metadata": {},
   "outputs": [
    {
     "data": {
      "text/plain": [
       "array([-2.0466557 ,  1.3750226 , -0.4596539 , ...,  0.7970738 ,\n",
       "        0.26873067, -1.4245468 ], dtype=float32)"
      ]
     },
     "execution_count": 6,
     "metadata": {},
     "output_type": "execute_result"
    }
   ],
   "source": [
    "features"
   ]
  },
  {
   "cell_type": "code",
   "execution_count": 8,
   "metadata": {},
   "outputs": [
    {
     "data": {
      "text/plain": [
       "(1024,)"
      ]
     },
     "execution_count": 8,
     "metadata": {},
     "output_type": "execute_result"
    }
   ],
   "source": [
    "features.shape"
   ]
  },
  {
   "cell_type": "code",
   "execution_count": null,
   "metadata": {},
   "outputs": [],
   "source": []
  }
 ],
 "metadata": {
  "kernelspec": {
   "display_name": "Python 3",
   "language": "python",
   "name": "python3"
  },
  "language_info": {
   "codemirror_mode": {
    "name": "ipython",
    "version": 3
   },
   "file_extension": ".py",
   "mimetype": "text/x-python",
   "name": "python",
   "nbconvert_exporter": "python",
   "pygments_lexer": "ipython3",
   "version": "3.11.4"
  }
 },
 "nbformat": 4,
 "nbformat_minor": 2
}
